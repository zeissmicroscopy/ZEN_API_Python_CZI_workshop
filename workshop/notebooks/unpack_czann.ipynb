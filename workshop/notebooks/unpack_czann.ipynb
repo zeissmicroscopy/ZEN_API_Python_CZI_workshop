{
 "cells": [
  {
   "cell_type": "markdown",
   "id": "e405e362",
   "metadata": {},
   "source": [
    "## Important\n",
    "\n",
    "**Please use Colab Runtime Version 25.07 --> Python 3.11.13**\n",
    "\n",
    "We will soon release czmodel = 6.0.0,which will also support newer python versions.\n",
    "\n",
    "## Disclaimer\n",
    "\n",
    "This content of this repository is free to use for everybody. Carl Zeiss Microscopy GmbH's ZEN software undertakes no warranty concerning the use of those scripts, image analysis settings and ZEN experiments. Use them on your own risk.\n",
    "\n",
    "**By using any of those examples you agree to this disclaimer.**"
   ]
  },
  {
   "cell_type": "code",
   "execution_count": 1,
   "id": "17e5967a",
   "metadata": {},
   "outputs": [],
   "source": [
    "try:\n",
    "  import google.colab\n",
    "  IN_COLAB = True\n",
    "except:\n",
    "  IN_COLAB = False\n",
    "\n",
    "if IN_COLAB:\n",
    "    # Install czmodel and dependencies\n",
    "\n",
    "    ! pip install --upgrade pip\n",
    "    ! pip install scikit-image xmltodict\n",
    "    ! pip install onnxruntime\n",
    "    ! pip install \"czmodel[pytorch]==5.1.0\"\n",
    "    ! pip install \"numpy>2\""
   ]
  },
  {
   "cell_type": "code",
   "execution_count": 2,
   "id": "a800576d-4b58-4a6f-8ee0-1d3a8a701941",
   "metadata": {},
   "outputs": [],
   "source": [
    "from czmodel.pytorch.convert import DefaultConverter\n",
    "import tempfile\n",
    "from pathlib import Path"
   ]
  },
  {
   "cell_type": "code",
   "execution_count": 3,
   "id": "c36de0c4-3492-4b02-9614-af2924f7aca5",
   "metadata": {},
   "outputs": [],
   "source": [
    "# Path to the model\n",
    "model_path = \"./models/cyto2022_nuc2.czann\""
   ]
  },
  {
   "cell_type": "code",
   "execution_count": 4,
   "id": "a23acebe-158a-4f44-a025-c390890b30c3",
   "metadata": {},
   "outputs": [
    {
     "name": "stdout",
     "output_type": "stream",
     "text": [
      "model_type = ModelType.SINGLE_CLASS_SEMANTIC_SEGMENTATION\n",
      "input_shape = [1024, 1024, 1]\n",
      "output_shape = [1024, 1024, 2]\n",
      "model_id = 30c3f719-a7ac-41a3-9204-b6a026ea5b5a\n",
      "min_overlap = [128, 128]\n",
      "classes = ['background', 'nuc']\n",
      "model_name = APEER-trained model\n",
      "scaling = None\n"
     ]
    }
   ],
   "source": [
    "# extract the model information and path and to the prediction\n",
    "with tempfile.TemporaryDirectory() as temp_path:\n",
    "\n",
    "    # get the model metadata and the path\n",
    "    model_metadata, model_path = DefaultConverter().unpack_model(model_file=model_path,\n",
    "                                                                 target_dir=Path(temp_path))\n",
    "\n",
    "    # get model metadata as dictionary\n",
    "    model_metadata_dict = model_metadata._asdict()\n",
    "    for k,v in model_metadata_dict.items():\n",
    "        print(k, \"=\", v)"
   ]
  }
 ],
 "metadata": {
  "kernelspec": {
   "display_name": "smartmic",
   "language": "python",
   "name": "python3"
  },
  "language_info": {
   "codemirror_mode": {
    "name": "ipython",
    "version": 3
   },
   "file_extension": ".py",
   "mimetype": "text/x-python",
   "name": "python",
   "nbconvert_exporter": "python",
   "pygments_lexer": "ipython3",
   "version": "3.11.13"
  }
 },
 "nbformat": 4,
 "nbformat_minor": 5
}
